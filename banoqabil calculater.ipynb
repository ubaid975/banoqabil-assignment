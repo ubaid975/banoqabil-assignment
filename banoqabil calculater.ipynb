{
 "cells": [
  {
   "cell_type": "code",
   "execution_count": 3,
   "id": "28fb6c18",
   "metadata": {},
   "outputs": [
    {
     "name": "stdout",
     "output_type": "stream",
     "text": [
      "Enter The Number: 44\n",
      "Enter The Number44\n",
      "NUMBER IS ADDITION BY 88\n",
      "NUMBER IS SUBTRACTION BY 0\n",
      "NUMBER IS MULTIPLICATION BY 1936\n",
      "NUMBER IS DIVISION BY 1.0\n"
     ]
    }
   ],
   "source": [
    "a=int(input(\"Enter The Number: \"))\n",
    "b=int(input(\"Enter The Number\"))\n",
    "add=a+b\n",
    "mul=a*b\n",
    "sub=a-b\n",
    "div=a/b\n",
    "print(\"NUMBER IS ADDITION BY\",add)\n",
    "print(\"NUMBER IS SUBTRACTION BY\",sub)\n",
    "print(\"NUMBER IS MULTIPLICATION BY\",mul)\n",
    "print(\"NUMBER IS DIVISION BY\",div)"
   ]
  },
  {
   "cell_type": "code",
   "execution_count": null,
   "id": "049dcaf1",
   "metadata": {},
   "outputs": [],
   "source": []
  }
 ],
 "metadata": {
  "kernelspec": {
   "display_name": "Python 3 (ipykernel)",
   "language": "python",
   "name": "python3"
  },
  "language_info": {
   "codemirror_mode": {
    "name": "ipython",
    "version": 3
   },
   "file_extension": ".py",
   "mimetype": "text/x-python",
   "name": "python",
   "nbconvert_exporter": "python",
   "pygments_lexer": "ipython3",
   "version": "3.11.5"
  }
 },
 "nbformat": 4,
 "nbformat_minor": 5
}
