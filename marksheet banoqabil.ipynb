{
 "cells": [
  {
   "cell_type": "code",
   "execution_count": 5,
   "id": "5da0967b",
   "metadata": {},
   "outputs": [
    {
     "name": "stdout",
     "output_type": "stream",
     "text": [
      "Enter Your Name: ubaid\n",
      "Enter Your Father Name: imran\n",
      "Enter Your Roll no: 73636\n",
      "Enter Your English Marks: 77\n",
      "Enter Your Math Marks: 88\n",
      "Enter Your Science Marks: 99\n",
      "Enter Your Urdu Marks: 77\n",
      "Enter Your Islamiat Marks: 88\n",
      "Your Total Marks is 429\n",
      "Your Percentage is 85.8%\n",
      "YOUR GARDE IS A\n"
     ]
    }
   ],
   "source": [
    "name=input(\"Enter Your Name: \")\n",
    "fname=input(\"Enter Your Father Name: \")\n",
    "roll_no=int(input(\"Enter Your Roll no: \"))\n",
    "eng=int(input(\"Enter Your English Marks: \"))\n",
    "math=int(input(\"Enter Your Math Marks: \"))\n",
    "sci=int(input(\"Enter Your Science Marks: \"))\n",
    "urdu=int(input(\"Enter Your Urdu Marks: \"))\n",
    "isl=int(input(\"Enter Your Islamiat Marks: \"))\n",
    "tmarks=eng+math+sci+urdu+isl\n",
    "per=tmarks/5\n",
    "print(f\"Your Total Marks is {tmarks}\")\n",
    "print(f\"Your Percentage is {per}%\")      \n",
    "if per>=90:\n",
    "    print(\"YOUR GRADE IS A+1\")\n",
    "elif per>=80 and per<90:\n",
    "    print(\"YOUR GARDE IS A\")\n",
    "elif per>=70 and per<80:\n",
    "    print(\"YOUR GRADE IS B\")\n",
    "elif per>=60 and per<70:\n",
    "    print(\"YOUR GRADE IS C\")\n",
    "elif per>=50 and per<60:\n",
    "    print(\"YOUR GRADE IS D\")\n",
    "elif per>=35 and per<50:\n",
    "    print(\"STATUS PASSED\")\n",
    "else:\n",
    "    print(\"STATUS FAILED\")"
   ]
  },
  {
   "cell_type": "code",
   "execution_count": null,
   "id": "7ab9a28f",
   "metadata": {},
   "outputs": [],
   "source": []
  }
 ],
 "metadata": {
  "kernelspec": {
   "display_name": "Python 3 (ipykernel)",
   "language": "python",
   "name": "python3"
  },
  "language_info": {
   "codemirror_mode": {
    "name": "ipython",
    "version": 3
   },
   "file_extension": ".py",
   "mimetype": "text/x-python",
   "name": "python",
   "nbconvert_exporter": "python",
   "pygments_lexer": "ipython3",
   "version": "3.11.5"
  }
 },
 "nbformat": 4,
 "nbformat_minor": 5
}
