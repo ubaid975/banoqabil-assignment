{
 "cells": [
  {
   "cell_type": "code",
   "execution_count": 1,
   "id": "39ebb1b2",
   "metadata": {},
   "outputs": [
    {
     "name": "stdout",
     "output_type": "stream",
     "text": [
      "Enter the number: 55\n",
      "Enter the number: 44\n",
      "GREATEST NUMBER IS 55\n"
     ]
    }
   ],
   "source": [
    "a=int(input(\"Enter the number: \"))\n",
    "b=int(input(\"Enter the number: \"))\n",
    "if a>b:\n",
    "    print(\"GREATEST NUMBER IS\",a)\n",
    "else:\n",
    "    print(\"GRESTEST NUMBER IS\",b)"
   ]
  },
  {
   "cell_type": "code",
   "execution_count": null,
   "id": "44d73756",
   "metadata": {},
   "outputs": [],
   "source": []
  }
 ],
 "metadata": {
  "kernelspec": {
   "display_name": "Python 3 (ipykernel)",
   "language": "python",
   "name": "python3"
  },
  "language_info": {
   "codemirror_mode": {
    "name": "ipython",
    "version": 3
   },
   "file_extension": ".py",
   "mimetype": "text/x-python",
   "name": "python",
   "nbconvert_exporter": "python",
   "pygments_lexer": "ipython3",
   "version": "3.11.5"
  }
 },
 "nbformat": 4,
 "nbformat_minor": 5
}
